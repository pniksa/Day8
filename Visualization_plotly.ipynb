{
 "cells": [
  {
   "cell_type": "code",
   "execution_count": 22,
   "metadata": {},
   "outputs": [],
   "source": [
    "import matplotlib.pyplot as plt\n",
    "import pandas as pd\n",
    "import seaborn as sns\n",
    "import bokeh.plotting as bkh\n",
    "\n",
    "df = pd.read_csv('data/winequality-red.csv', delimiter=';')\n",
    "#sns.distplot(df['pH'].dropna())\n",
    "#plot1 = sns.barplot(x = df['quality'], y = df['alcohol']) # binning not functional right now\n",
    "#plot2 = sns.scatterplot(x =df['pH'], y = df['fixed acidity'])\n",
    "#plot2\n",
    "#print(df.columns)\n",
    "#sns.load_dataset(df)\n",
    "#def mscatter(p, x, y, typestr):\n",
    "#    p.scatter(x, y, marker=typestr,\n",
    "#            line_color=\"#6666ee\", fill_color=\"#ee6666\", fill_alpha=0.5, size=12)\n",
    "plot1 = bkh.figure()\n",
    "plot1.scatter(df['pH'], df['fixed acidity'])\n",
    "bkh.show(plot1)\n",
    "#mscatter(p, random(N)+2, random(N)+1, \"circle\")"
   ]
  },
  {
   "cell_type": "code",
   "execution_count": 27,
   "metadata": {},
   "outputs": [],
   "source": [
    "plot2 = bkh.figure()\n",
    "plot2.vbar(x = df['quality'], width = 0.5, top = df['fixed acidity'])\n",
    "bkh.show(plot2)"
   ]
  },
  {
   "cell_type": "code",
   "execution_count": null,
   "metadata": {},
   "outputs": [],
   "source": []
  }
 ],
 "metadata": {
  "kernelspec": {
   "display_name": "Python 3",
   "language": "python",
   "name": "python3"
  },
  "language_info": {
   "codemirror_mode": {
    "name": "ipython",
    "version": 3
   },
   "file_extension": ".py",
   "mimetype": "text/x-python",
   "name": "python",
   "nbconvert_exporter": "python",
   "pygments_lexer": "ipython3",
   "version": "3.7.3"
  }
 },
 "nbformat": 4,
 "nbformat_minor": 2
}
