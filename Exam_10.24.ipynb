{
 "cells": [
  {
   "cell_type": "markdown",
   "metadata": {},
   "source": [
    "Linear Regression is a supervised ML algorithm? False\n",
    "\n",
    "Which method do we use to find best fit for data in LR: a) least squares, b) maximum likelihood, c) logarithmic loss, d) both a) and b)? b) unsure about terminology\n",
    "\n",
    "Which of the following is true for residuals: a) lower is better, b) higher is better, c) a) or b) depending of the situation, d) none of these? a)\n",
    "\n",
    "What will happen, when you fit degree to polynomial? highest order of polynomial, polynomial regression\n",
    "\n",
    "What is a neural network? relations between data, possible patterns in dataset\n",
    "\n",
    "Is it possible to design a linear regression algorithm using a neural network? True\n",
    "\n",
    "Which of the following evaluations matrizes can be used to eval. a model, while modeling a continous output model: a) AUC-ROC, b) ACCURACY, c) LogLoss, d) Mean-Squard-Error? a)\n",
    "\n",
    "Which of the following statements is true about outliers in linear regression: a) LR is sensitive to outliers, b) cant say, c) none of these? a)\n",
    "\n",
    "Suppose you plotted a scatter diagram between residuals and predicted values in LR and you found a relationship: a) since there is a relationship model is good, b) since there is a relationship model is bad, c) cant say, d) none of these? c) more info needed\n",
    "\n",
    "Suppose we have N indep. var's {x_i} and dependent variable is y, by fitting the best fit line using least squares, we found that corr coeff's for x_1 with y is corr(x_1,y) = 0.95, which of the following is true for x_1: a) rel. between x, y is weak, b) rel. betw. x, y is strong, c)\n",
    "rel. betw. x, y is neutral, d) correlation cannot judge rel.? b) data appear strongly related, yet also d) as nature or type of relation is unclear\n",
    "\n",
    "Suppose you have a dataset D_1 and we design a linear regression model of degree 3 polynomial and we find that the training and testing error is zero or in other terms it perfectly fits the data, what will happen if we fit a degree four polynomial: a) high chance of overfit, b) high chance of underfit, c) cant say, d) none of these? d) may be wrong for more complicated LR models, e.g. with outlier detection, i.e. it may be c)"
   ]
  }
 ],
 "metadata": {
  "kernelspec": {
   "display_name": "Python 3",
   "language": "python",
   "name": "python3"
  },
  "language_info": {
   "codemirror_mode": {
    "name": "ipython",
    "version": 3
   },
   "file_extension": ".py",
   "mimetype": "text/x-python",
   "name": "python",
   "nbconvert_exporter": "python",
   "pygments_lexer": "ipython3",
   "version": "3.7.3"
  }
 },
 "nbformat": 4,
 "nbformat_minor": 2
}
